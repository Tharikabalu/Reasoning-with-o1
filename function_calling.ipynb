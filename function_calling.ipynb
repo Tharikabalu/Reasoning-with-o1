{
 "cells": [
  {
   "cell_type": "code",
   "execution_count": 1,
   "metadata": {},
   "outputs": [],
   "source": [
    "from fordllm.utils import TokenFetcher\n",
    "from openai import OpenAI"
   ]
  },
  {
   "cell_type": "code",
   "execution_count": 2,
   "metadata": {},
   "outputs": [],
   "source": [
    "import copy\n",
    "import json"
   ]
  },
  {
   "cell_type": "code",
   "execution_count": 3,
   "metadata": {},
   "outputs": [],
   "source": [
    "token_fetcher = TokenFetcher()"
   ]
  },
  {
   "cell_type": "code",
   "execution_count": 5,
   "metadata": {},
   "outputs": [
    {
     "name": "stdout",
     "output_type": "stream",
     "text": [
      "access token refreshed\n"
     ]
    }
   ],
  },
  {
   "cell_type": "code",
   "execution_count": 6,
   "metadata": {},
   "outputs": [
    {
     "name": "stdout",
     "output_type": "stream",
     "text": [
      "gpt-4-turbo-2024-04-09\n",
      "gpt-4o-2024-08-06\n",
      "gpt-4o-mini-2024-07-18\n",
      "o1-preview-2024-09-12\n",
      "o1-mini-2024-09-12\n",
      "meta-llama-3-70b-instruct\n",
      "meta-llama-3.1-405b\n",
      "meta-llama-3.2-11b\n",
      "meta-llama-3.3-70b\n",
      "gemini-1.5-pro\n",
      "gemini-1.5-flash\n",
      "claude-3.5-sonnet\n",
      "text-embedding-ada-002\n",
      "text-embedding-3-small\n",
      "text-embedding-3-large\n",
      "bge_small\n",
      "bge_large\n",
      "whisper-tiny\n",
      "whisper-small\n",
      "whisper-medium\n",
      "whisper-large\n"
     ]
    }
   ],
   "source": [
    "model_list = client.models.list()\n",
    "for model in model_list.data:\n",
    "    print(model.id)"
   ]
  },
  {
   "cell_type": "code",
   "execution_count": 7,
   "metadata": {},
   "outputs": [],
   "source": [
    "o1_model=\"o1-preview-2024-09-12\"\n",
    "gpt_4o_model=\"gpt-4o-2024-08-06\""
   ]
  },
  {
   "cell_type": "code",
   "execution_count": 8,
   "metadata": {},
   "outputs": [],
   "source": [
    "tools = [\n",
    "  {\n",
    "      \"type\": \"function\",\n",
    "      \"function\": {\n",
    "          \"name\": \"get_weather\",\n",
    "          \"parameters\": {\n",
    "              \"type\": \"object\",\n",
    "              \"properties\": {\n",
    "                  \"location\": {\"type\": \"string\"}\n",
    "              },\n",
    "          },\n",
    "          \n",
    "      },\n",
    "  },\n",
    "  \n",
    "]"
   ]
  },
  {
   "cell_type": "code",
   "execution_count": 9,
   "metadata": {},
   "outputs": [],
   "source": [
    "completion = client.chat.completions.create(\n",
    "  model=gpt_4o_model,\n",
    "  messages=[{\"role\": \"user\", \"content\": \"What's the weather like in Paris today?\"}],\n",
    "  tools=tools,\n",
    ")"
   ]
  },
  {
   "cell_type": "code",
   "execution_count": 10,
   "metadata": {},
   "outputs": [
    {
     "name": "stdout",
     "output_type": "stream",
     "text": [
      "[ChatCompletionMessageToolCall(id='call_wAcJccGAsEamRbPvliJAQ8bI', function=Function(arguments='{\"location\":\"Paris\"}', name='get_weather'), type='function')]\n"
     ]
    }
   ],
   "source": [
    "print(completion.choices[0].message.tool_calls)"
   ]
  },
  {
   "cell_type": "code",
   "execution_count": null,
   "metadata": {},
   "outputs": [],
   "source": []
  },
  {
   "cell_type": "code",
   "execution_count": null,
   "metadata": {},
   "outputs": [],
   "source": []
  }
 ],
 "metadata": {
  "kernelspec": {
   "display_name": "pydantic",
   "language": "python",
   "name": "python3"
  },
  "language_info": {
   "codemirror_mode": {
    "name": "ipython",
    "version": 3
   },
   "file_extension": ".py",
   "mimetype": "text/x-python",
   "name": "python",
   "nbconvert_exporter": "python",
   "pygments_lexer": "ipython3",
   "version": "3.11.9"
  }
 },
 "nbformat": 4,
 "nbformat_minor": 2
}
